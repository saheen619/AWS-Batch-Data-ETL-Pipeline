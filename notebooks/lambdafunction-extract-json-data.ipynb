{
 "cells": [
  {
   "cell_type": "code",
   "execution_count": 7,
   "metadata": {},
   "outputs": [],
   "source": [
    "import json\n",
    "import requests\n",
    "import pymongo\n",
    "import boto3\n",
    "import os\n",
    "import datetime"
   ]
  },
  {
   "cell_type": "code",
   "execution_count": 26,
   "metadata": {},
   "outputs": [],
   "source": [
    "# Setting environmental variables to be used in lambda\n",
    "\n",
    "DATABASE_NAME = os.getenv(\"DATABASE_NAME\"),\n",
    "COLLECTION_NAME = os.getenv(\"COLLECTION_NAME\")\n",
    "MONGODB_URI = os.getenv(\"MONGODB_URI\")\n",
    "S3BUCKET_NAME = os.getenv(\"BUCKET_NAME\")"
   ]
  },
  {
   "cell_type": "code",
   "execution_count": 6,
   "metadata": {},
   "outputs": [],
   "source": [
    "DATA_SOURCE_URL = f\"https://www.consumerfinance.gov/data-research/consumer-complaints/search/api/v1/\" \\\n",
    "                  f\"?field=all&format=json\" \\\n",
    "                  f\"&date_received_max=<TO_DATE>&date_received_min=<FROM_DATE>\""
   ]
  },
  {
   "cell_type": "code",
   "execution_count": 11,
   "metadata": {},
   "outputs": [
    {
     "data": {
      "text/plain": [
       "datetime.datetime(2023, 1, 1, 0, 0)"
      ]
     },
     "execution_count": 11,
     "metadata": {},
     "output_type": "execute_result"
    }
   ],
   "source": [
    "FROM_DATE = \"2023-01-01\"\n",
    "FROM_DATE = datetime.datetime.strptime(FROM_DATE, \"%Y-%m-%d\")\n",
    "FROM_DATE"
   ]
  },
  {
   "cell_type": "code",
   "execution_count": null,
   "metadata": {},
   "outputs": [],
   "source": [
    "client = pymongo.MongoClient(MONGODB_URI)"
   ]
  },
  {
   "cell_type": "code",
   "execution_count": 17,
   "metadata": {},
   "outputs": [
    {
     "ename": "NameError",
     "evalue": "name 'client' is not defined",
     "output_type": "error",
     "traceback": [
      "\u001b[1;31m---------------------------------------------------------------------------\u001b[0m",
      "\u001b[1;31mNameError\u001b[0m                                 Traceback (most recent call last)",
      "Cell \u001b[1;32mIn[17], line 2\u001b[0m\n\u001b[0;32m      1\u001b[0m \u001b[39m# To query the document in descending order to extract the document with latest to_date \u001b[39;00m\n\u001b[1;32m----> 2\u001b[0m latest_document \u001b[39m=\u001b[39m client[DATABASE_NAME][COLLECTION_NAME]\u001b[39m.\u001b[39mfind_one(sort\u001b[39m=\u001b[39m[(\u001b[39m\"\u001b[39m\u001b[39mto_date\u001b[39m\u001b[39m\"\u001b[39m, \u001b[39m-\u001b[39m\u001b[39m1\u001b[39m)]) \n\u001b[0;32m      4\u001b[0m \u001b[39mif\u001b[39;00m latest_document \u001b[39mis\u001b[39;00m \u001b[39mnot\u001b[39;00m \u001b[39mNone\u001b[39;00m:\n\u001b[0;32m      5\u001b[0m     FROM_DATE \u001b[39m=\u001b[39m latest_document[\u001b[39m\"\u001b[39m\u001b[39mto_date\u001b[39m\u001b[39m\"\u001b[39m]\n",
      "\u001b[1;31mNameError\u001b[0m: name 'client' is not defined"
     ]
    }
   ],
   "source": [
    "def get_from_date_to_date():\n",
    "    FROM_DATE = \"2023-01-01\"\n",
    "    FROM_DATE = datetime.datetime.strptime(FROM_DATE, \"%Y-%m-%d\")\n",
    "\n",
    "    if COLLECTION_NAME in client[DATABASE_NAME].list_collection_names():\n",
    "        # To query the document in descending order to extract the document with latest to_date \n",
    "        latest_document = client[DATABASE_NAME][COLLECTION_NAME].find_one(sort=[(\"to_date\", -1)]) \n",
    "\n",
    "        if latest_document is not None:\n",
    "            FROM_DATE = latest_document[\"to_date\"]\n",
    "\n",
    "    TO_DATE = datetime.datetime.now()   # Assigning current date to TO_DATE\n",
    "\n",
    "    response = {\n",
    "        \"from_Date\" : FROM_DATE.strftime(\"%Y-%m-%d\"),\n",
    "        \"to_date\" : TO_DATE.strftime(\"%Y-%m-%d\"),\n",
    "        \"from_date_object\" : FROM_DATE,\n",
    "        \"to_date_object\" : TO_DATE\n",
    "    }\n",
    "    return response"
   ]
  },
  {
   "cell_type": "code",
   "execution_count": null,
   "metadata": {},
   "outputs": [],
   "source": [
    "def ingest_from_date_to_date(data, status):\n",
    "    data.update(\"status\" : status)\n",
    "    client[DATABASE_NAME][COLLECTION_NAME].insert_one(data)"
   ]
  },
  {
   "cell_type": "code",
   "execution_count": null,
   "metadata": {},
   "outputs": [],
   "source": [
    "def lambda_handler(event, context):\n",
    "    print(event,context)\n",
    "    from_date, to_date, from_date_object, to_date_object = get_from_date_to_date().values()\n",
    "    if to_date == from_date:\n",
    "        return {\n",
    "            'statusCode': 200,\n",
    "            'body': json.dumps(f\"Pipeline has already downloaded all data upto {from_date}\")\n",
    "        }\n",
    "    url = DATA_SOURCE_URL.replace(\"<todate>\", to_date).replace(\"<fromdate>\", from_date)\n",
    "    data = requests.get(url)\n",
    "    json_data = json.loads(data.content)\n",
    "\n",
    "    def extract_source_data_from_url(json_data):\n",
    "        _source_data = []\n",
    "        for item in json_data:\n",
    "            if \"_source\" in item.keys():\n",
    "                _source_data.append(item[\"_source\"])\n",
    "        return _source_data\n",
    "\n",
    "    consumer_complaints_data = extract_source_data_from_url(json_data)\n",
    "\n",
    "    s3 = boto3.resource('s3')\n",
    "    s3object = s3.Object(S3BUCKET_NAME, f\"inbox/{from_date.strftime(\"%Y-%m-%d\").replace('-','_')}_{to_date.strftime(\"%Y-%m-%d\").replace('-','_')}_consumer_complaints.json\")\n",
    "    s3object.put(\n",
    "        Body = (bytes(json.dumps(consumer_complaints_data).encode('UTF-8')))\n",
    "    )\n",
    "\n",
    "    ingest_from_date_to_date({\"from_date\": from_date_object, \"to_date\": to_date_object})\n",
    "    return {\n",
    "        'statusCode': 200,\n",
    "        'body': json.dumps(\"New date Entries have been succefully writted to your mongoDB collection\")\n",
    "    }"
   ]
  },
  {
   "cell_type": "code",
   "execution_count": 25,
   "metadata": {},
   "outputs": [
    {
     "data": {
      "text/plain": [
       "'2023-06-06'"
      ]
     },
     "execution_count": 25,
     "metadata": {},
     "output_type": "execute_result"
    }
   ],
   "source": [
    "TO_DATE = datetime.datetime.now()\n",
    "TO_DATE.strftime(\"%Y-%m-%d\")"
   ]
  }
 ],
 "metadata": {
  "kernelspec": {
   "display_name": "Python 3",
   "language": "python",
   "name": "python3"
  },
  "language_info": {
   "codemirror_mode": {
    "name": "ipython",
    "version": 3
   },
   "file_extension": ".py",
   "mimetype": "text/x-python",
   "name": "python",
   "nbconvert_exporter": "python",
   "pygments_lexer": "ipython3",
   "version": "3.10.7"
  },
  "orig_nbformat": 4
 },
 "nbformat": 4,
 "nbformat_minor": 2
}
